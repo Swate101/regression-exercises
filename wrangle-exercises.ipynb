{
 "cells": [
  {
   "cell_type": "code",
   "execution_count": 3,
   "id": "c2ba3768",
   "metadata": {},
   "outputs": [],
   "source": [
    "import pandas as pd\n",
    "import numpy as np\n",
    "import seaborn as sns\n",
    "import matplotlib.pyplot as plt\n",
    "from env import get_db_url"
   ]
  },
  {
   "cell_type": "markdown",
   "id": "0d70bfa2",
   "metadata": {},
   "source": [
    "#### Find all of the \"Single Family Residential\" properties from 2017."
   ]
  },
  {
   "cell_type": "code",
   "execution_count": 4,
   "id": "ca80fde8",
   "metadata": {},
   "outputs": [
    {
     "data": {
      "text/html": [
       "<div>\n",
       "<style scoped>\n",
       "    .dataframe tbody tr th:only-of-type {\n",
       "        vertical-align: middle;\n",
       "    }\n",
       "\n",
       "    .dataframe tbody tr th {\n",
       "        vertical-align: top;\n",
       "    }\n",
       "\n",
       "    .dataframe thead th {\n",
       "        text-align: right;\n",
       "    }\n",
       "</style>\n",
       "<table border=\"1\" class=\"dataframe\">\n",
       "  <thead>\n",
       "    <tr style=\"text-align: right;\">\n",
       "      <th></th>\n",
       "      <th>bedroomcnt</th>\n",
       "      <th>bathroomcnt</th>\n",
       "      <th>calculatedfinishedsquarefeet</th>\n",
       "      <th>taxvaluedollarcnt</th>\n",
       "      <th>yearbuilt</th>\n",
       "      <th>taxamount</th>\n",
       "      <th>fips</th>\n",
       "    </tr>\n",
       "  </thead>\n",
       "  <tbody>\n",
       "    <tr>\n",
       "      <th>0</th>\n",
       "      <td>0.0</td>\n",
       "      <td>0.0</td>\n",
       "      <td>NaN</td>\n",
       "      <td>27516.0</td>\n",
       "      <td>NaN</td>\n",
       "      <td>NaN</td>\n",
       "      <td>6037.0</td>\n",
       "    </tr>\n",
       "    <tr>\n",
       "      <th>1</th>\n",
       "      <td>0.0</td>\n",
       "      <td>0.0</td>\n",
       "      <td>NaN</td>\n",
       "      <td>10.0</td>\n",
       "      <td>NaN</td>\n",
       "      <td>NaN</td>\n",
       "      <td>6037.0</td>\n",
       "    </tr>\n",
       "    <tr>\n",
       "      <th>2</th>\n",
       "      <td>0.0</td>\n",
       "      <td>0.0</td>\n",
       "      <td>NaN</td>\n",
       "      <td>10.0</td>\n",
       "      <td>NaN</td>\n",
       "      <td>NaN</td>\n",
       "      <td>6037.0</td>\n",
       "    </tr>\n",
       "    <tr>\n",
       "      <th>3</th>\n",
       "      <td>0.0</td>\n",
       "      <td>0.0</td>\n",
       "      <td>NaN</td>\n",
       "      <td>2108.0</td>\n",
       "      <td>NaN</td>\n",
       "      <td>174.21</td>\n",
       "      <td>6037.0</td>\n",
       "    </tr>\n",
       "    <tr>\n",
       "      <th>4</th>\n",
       "      <td>4.0</td>\n",
       "      <td>2.0</td>\n",
       "      <td>3633.0</td>\n",
       "      <td>296425.0</td>\n",
       "      <td>2005.0</td>\n",
       "      <td>6941.39</td>\n",
       "      <td>6037.0</td>\n",
       "    </tr>\n",
       "  </tbody>\n",
       "</table>\n",
       "</div>"
      ],
      "text/plain": [
       "   bedroomcnt  bathroomcnt  calculatedfinishedsquarefeet  taxvaluedollarcnt  \\\n",
       "0         0.0          0.0                           NaN            27516.0   \n",
       "1         0.0          0.0                           NaN               10.0   \n",
       "2         0.0          0.0                           NaN               10.0   \n",
       "3         0.0          0.0                           NaN             2108.0   \n",
       "4         4.0          2.0                        3633.0           296425.0   \n",
       "\n",
       "   yearbuilt  taxamount    fips  \n",
       "0        NaN        NaN  6037.0  \n",
       "1        NaN        NaN  6037.0  \n",
       "2        NaN        NaN  6037.0  \n",
       "3        NaN     174.21  6037.0  \n",
       "4     2005.0    6941.39  6037.0  "
      ]
     },
     "execution_count": 4,
     "metadata": {},
     "output_type": "execute_result"
    }
   ],
   "source": [
    "sql = \"\"\"\n",
    "select \n",
    "bedroomcnt, bathroomcnt, calculatedfinishedsquarefeet, taxvaluedollarcnt, yearbuilt, taxamount, fips\n",
    "from properties_2017\n",
    "join propertylandusetype using (propertylandusetypeid)\n",
    "where propertylandusedesc = \"Single Family Residential\"\n",
    "\"\"\"\n",
    "\n",
    "df = pd.read_sql(sql, get_db_url(\"zillow\"))\n",
    "df.head()"
   ]
  },
  {
   "cell_type": "code",
   "execution_count": 11,
   "id": "ea2a13ca",
   "metadata": {},
   "outputs": [
    {
     "name": "stdout",
     "output_type": "stream",
     "text": [
      "<class 'pandas.core.frame.DataFrame'>\n",
      "RangeIndex: 2152863 entries, 0 to 2152862\n",
      "Data columns (total 7 columns):\n",
      " #   Column                        Dtype\n",
      "---  ------                        -----\n",
      " 0   bedroomcnt                    bool \n",
      " 1   bathroomcnt                   bool \n",
      " 2   calculatedfinishedsquarefeet  bool \n",
      " 3   taxvaluedollarcnt             bool \n",
      " 4   yearbuilt                     bool \n",
      " 5   taxamount                     bool \n",
      " 6   fips                          bool \n",
      "dtypes: bool(7)\n",
      "memory usage: 14.4 MB\n"
     ]
    }
   ],
   "source": [
    "df.isna().info()"
   ]
  },
  {
   "cell_type": "code",
   "execution_count": 9,
   "id": "13d75b8f",
   "metadata": {},
   "outputs": [
    {
     "data": {
      "text/plain": [
       "bedroomcnt                        11\n",
       "bathroomcnt                       11\n",
       "calculatedfinishedsquarefeet    8484\n",
       "taxvaluedollarcnt                493\n",
       "yearbuilt                       9337\n",
       "taxamount                       4442\n",
       "fips                               0\n",
       "dtype: int64"
      ]
     },
     "execution_count": 9,
     "metadata": {},
     "output_type": "execute_result"
    }
   ],
   "source": [
    "df.isna().sum()"
   ]
  },
  {
   "cell_type": "markdown",
   "id": "f8f8344a",
   "metadata": {},
   "source": [
    "## % of NULLS"
   ]
  },
  {
   "cell_type": "code",
   "execution_count": 8,
   "id": "a4e9c3c6",
   "metadata": {},
   "outputs": [
    {
     "data": {
      "text/plain": [
       "bedroomcnt                      0.000005\n",
       "bathroomcnt                     0.000005\n",
       "calculatedfinishedsquarefeet    0.003941\n",
       "taxvaluedollarcnt               0.000229\n",
       "yearbuilt                       0.004337\n",
       "taxamount                       0.002063\n",
       "fips                            0.000000\n",
       "dtype: float64"
      ]
     },
     "execution_count": 8,
     "metadata": {},
     "output_type": "execute_result"
    }
   ],
   "source": [
    "df.isna().mean()"
   ]
  },
  {
   "cell_type": "code",
   "execution_count": 12,
   "id": "b87299ed",
   "metadata": {},
   "outputs": [
    {
     "data": {
      "text/plain": [
       "0.9941"
      ]
     },
     "execution_count": 12,
     "metadata": {},
     "output_type": "execute_result"
    }
   ],
   "source": [
    "round(df.dropna().shape[0] / df.shape[0], 4)"
   ]
  },
  {
   "cell_type": "code",
   "execution_count": 14,
   "id": "0129d2d9",
   "metadata": {},
   "outputs": [
    {
     "data": {
      "text/plain": [
       "0.99"
      ]
     },
     "execution_count": 14,
     "metadata": {},
     "output_type": "execute_result"
    }
   ],
   "source": [
    "round(df.dropna().shape[0] / df.shape[0], 2)"
   ]
  },
  {
   "cell_type": "markdown",
   "id": "5395d76c",
   "metadata": {},
   "source": [
    "#### dropping nulls leaves alot of data still avaliable"
   ]
  },
  {
   "cell_type": "code",
   "execution_count": 15,
   "id": "49317c9f",
   "metadata": {},
   "outputs": [
    {
     "data": {
      "text/plain": [
       "2152863"
      ]
     },
     "execution_count": 15,
     "metadata": {},
     "output_type": "execute_result"
    }
   ],
   "source": [
    "df.shape[0]"
   ]
  },
  {
   "cell_type": "code",
   "execution_count": 17,
   "id": "39ad5656",
   "metadata": {},
   "outputs": [],
   "source": [
    "df = df.dropna()"
   ]
  },
  {
   "cell_type": "code",
   "execution_count": 20,
   "id": "898b4058",
   "metadata": {},
   "outputs": [
    {
     "data": {
      "text/plain": [
       "['bedroomcnt',\n",
       " 'bathroomcnt',\n",
       " 'calculatedfinishedsquarefeet',\n",
       " 'taxvaluedollarcnt',\n",
       " 'yearbuilt',\n",
       " 'taxamount',\n",
       " 'fips']"
      ]
     },
     "execution_count": 20,
     "metadata": {},
     "output_type": "execute_result"
    }
   ],
   "source": [
    "df.columns.tolist()"
   ]
  },
  {
   "cell_type": "code",
   "execution_count": 21,
   "id": "2222a507",
   "metadata": {},
   "outputs": [
    {
     "name": "stdout",
     "output_type": "stream",
     "text": [
      "bedroomcnt\n",
      "3.0     962944\n",
      "4.0     633608\n",
      "2.0     334221\n",
      "5.0     150671\n",
      "6.0      25117\n",
      "1.0      22895\n",
      "7.0       4792\n",
      "0.0       4397\n",
      "8.0       1103\n",
      "9.0        290\n",
      "10.0       118\n",
      "11.0        34\n",
      "13.0        15\n",
      "12.0        12\n",
      "14.0         7\n",
      "15.0         5\n",
      "18.0         3\n",
      "16.0         2\n",
      "25.0         1\n",
      "Name: bedroomcnt, dtype: int64\n",
      "#######################\n",
      "bathroomcnt\n",
      "2.00     942463\n",
      "3.00     422398\n",
      "1.00     412582\n",
      "2.50     142827\n",
      "4.00      82039\n",
      "1.50      31157\n",
      "3.50      28464\n",
      "5.00      28306\n",
      "4.50      19474\n",
      "6.00      10717\n",
      "5.50       6201\n",
      "7.00       4381\n",
      "0.00       4274\n",
      "8.00       1681\n",
      "6.50       1330\n",
      "9.00        707\n",
      "7.50        382\n",
      "10.00       322\n",
      "11.00       145\n",
      "8.50        108\n",
      "12.00        73\n",
      "9.50         50\n",
      "13.00        39\n",
      "14.00        25\n",
      "15.00        17\n",
      "0.50         16\n",
      "10.50        14\n",
      "16.00        12\n",
      "18.00         8\n",
      "20.00         6\n",
      "17.00         4\n",
      "1.75          3\n",
      "12.50         3\n",
      "11.50         3\n",
      "19.50         1\n",
      "14.50         1\n",
      "32.00         1\n",
      "19.00         1\n",
      "Name: bathroomcnt, dtype: int64\n",
      "#######################\n",
      "calculatedfinishedsquarefeet\n",
      "1200.0     5184\n",
      "1080.0     4376\n",
      "1120.0     4354\n",
      "1400.0     3828\n",
      "1440.0     3684\n",
      "           ... \n",
      "10180.0       1\n",
      "13169.0       1\n",
      "9095.0        1\n",
      "10525.0       1\n",
      "24920.0       1\n",
      "Name: calculatedfinishedsquarefeet, Length: 10557, dtype: int64\n",
      "#######################\n",
      "taxvaluedollarcnt\n",
      "450000.0    820\n",
      "500000.0    774\n",
      "400000.0    723\n",
      "430000.0    690\n",
      "440000.0    683\n",
      "           ... \n",
      "729523.0      1\n",
      "940139.0      1\n",
      "545367.0      1\n",
      "38804.0       1\n",
      "536061.0      1\n",
      "Name: taxvaluedollarcnt, Length: 588178, dtype: int64\n",
      "#######################\n",
      "yearbuilt\n",
      "1955.0    84329\n",
      "1950.0    71606\n",
      "1954.0    69069\n",
      "1953.0    62270\n",
      "1956.0    61858\n",
      "          ...  \n",
      "1855.0        1\n",
      "1879.0        1\n",
      "1833.0        1\n",
      "1840.0        1\n",
      "1874.0        1\n",
      "Name: yearbuilt, Length: 153, dtype: int64\n",
      "#######################\n",
      "taxamount\n",
      "345.72      172\n",
      "344.18       76\n",
      "343.52       74\n",
      "49.18        46\n",
      "388.18       37\n",
      "           ... \n",
      "8191.38       1\n",
      "11627.92      1\n",
      "15008.68      1\n",
      "9227.22       1\n",
      "13494.52      1\n",
      "Name: taxamount, Length: 915868, dtype: int64\n",
      "#######################\n",
      "fips\n",
      "6037.0    1425207\n",
      "6059.0     552057\n",
      "6111.0     162971\n",
      "Name: fips, dtype: int64\n",
      "#######################\n"
     ]
    }
   ],
   "source": [
    "for column in df.columns:\n",
    "    print(column)\n",
    "    print(df[column].value_counts())\n",
    "    print(\"#######################\")"
   ]
  },
  {
   "cell_type": "markdown",
   "id": "f169600f",
   "metadata": {},
   "source": [
    "## We have some takeaways so \n",
    "* bedrooms are allowed to be int \n",
    "* bathrooms can stay a float to keep the halve values "
   ]
  },
  {
   "cell_type": "code",
   "execution_count": 25,
   "id": "79c124a8",
   "metadata": {},
   "outputs": [
    {
     "data": {
      "text/plain": [
       "1.0"
      ]
     },
     "execution_count": 25,
     "metadata": {},
     "output_type": "execute_result"
    }
   ],
   "source": [
    "(df.calculatedfinishedsquarefeet == df.calculatedfinishedsquarefeet.astype(int)).mean()"
   ]
  },
  {
   "cell_type": "code",
   "execution_count": 26,
   "id": "83d0d21b",
   "metadata": {},
   "outputs": [
    {
     "data": {
      "text/plain": [
       "0.8925192794249229"
      ]
     },
     "execution_count": 26,
     "metadata": {},
     "output_type": "execute_result"
    }
   ],
   "source": [
    "(df.bathroomcnt == df.bathroomcnt.astype(int)).mean()"
   ]
  },
  {
   "cell_type": "code",
   "execution_count": 27,
   "id": "370ef924",
   "metadata": {},
   "outputs": [],
   "source": [
    "df[\"fips\"] = df[\"fips\"].astype(int)\n",
    "df[\"yearbuilt\"] = df[\"yearbuilt\"].astype(int)\n",
    "df[\"bedroomcnt\"] = df[\"bedroomcnt\"].astype(int)\n",
    "df[\"taxvaluedollarcnt\"] = df[\"taxvaluedollarcnt\"].astype(int)\n",
    "df[\"calculatedfinishedsquarefeet\"] = df[\"calculatedfinishedsquarefeet\"].astype(int)"
   ]
  },
  {
   "cell_type": "markdown",
   "id": "c06d86b1",
   "metadata": {},
   "source": [
    "## Then we check to make sure the dtypes changed "
   ]
  },
  {
   "cell_type": "code",
   "execution_count": 28,
   "id": "b05b4435",
   "metadata": {},
   "outputs": [
    {
     "data": {
      "text/plain": [
       "bedroomcnt                        int64\n",
       "bathroomcnt                     float64\n",
       "calculatedfinishedsquarefeet      int64\n",
       "taxvaluedollarcnt                 int64\n",
       "yearbuilt                         int64\n",
       "taxamount                       float64\n",
       "fips                              int64\n",
       "dtype: object"
      ]
     },
     "execution_count": 28,
     "metadata": {},
     "output_type": "execute_result"
    }
   ],
   "source": [
    "df.dtypes"
   ]
  },
  {
   "cell_type": "markdown",
   "id": "cdb01507",
   "metadata": {},
   "source": [
    "# Put in a WRANGLE.PY untill you can improve!"
   ]
  },
  {
   "cell_type": "code",
   "execution_count": 37,
   "id": "b978cd67",
   "metadata": {},
   "outputs": [
    {
     "data": {
      "image/png": "[encoded data removed]",
      "text/plain": [
       "<Figure size 1152x216 with 7 Axes>"
      ]
     },
     "metadata": {
      "needs_background": "light"
     },
     "output_type": "display_data"
    }
   ],
   "source": [
    "plt.figure(figsize=(16, 3))\n",
    "\n",
    "\n",
    "for i, col in enumerate(df.columns):\n",
    "    plot_number = i + 1 \n",
    "    plt.subplot(1,10, plot_number)\n",
    "    plt.title(col)\n",
    "    df[col].hist(bins=5)\n",
    "    plt.grid(False)"
   ]
  },
  {
   "cell_type": "markdown",
   "id": "116e1eb4",
   "metadata": {},
   "source": [
    "## This is not really readable"
   ]
  },
  {
   "cell_type": "code",
   "execution_count": 38,
   "id": "22ad084f",
   "metadata": {},
   "outputs": [
    {
     "name": "stdout",
     "output_type": "stream",
     "text": [
      "bedroomcnt\n"
     ]
    },
    {
     "data": {
      "image/png": "[encoded data removed]",
      "text/plain": [
       "<Figure size 432x288 with 1 Axes>"
      ]
     },
     "metadata": {
      "needs_background": "light"
     },
     "output_type": "display_data"
    },
    {
     "name": "stdout",
     "output_type": "stream",
     "text": [
      "bathroomcnt\n"
     ]
    },
    {
     "data": {
      "image/png": "[encoded data removed]",
      "text/plain": [
       "<Figure size 432x288 with 1 Axes>"
      ]
     },
     "metadata": {
      "needs_background": "light"
     },
     "output_type": "display_data"
    },
    {
     "name": "stdout",
     "output_type": "stream",
     "text": [
      "calculatedfinishedsquarefeet\n"
     ]
    },
    {
     "data": {
      "image/png": "[encoded data removed]",
      "text/plain": [
       "<Figure size 432x288 with 1 Axes>"
      ]
     },
     "metadata": {
      "needs_background": "light"
     },
     "output_type": "display_data"
    },
    {
     "name": "stdout",
     "output_type": "stream",
     "text": [
      "taxvaluedollarcnt\n"
     ]
    },
    {
     "data": {
      "image/png": "[encoded data removed]",
      "text/plain": [
       "<Figure size 432x288 with 1 Axes>"
      ]
     },
     "metadata": {
      "needs_background": "light"
     },
     "output_type": "display_data"
    },
    {
     "name": "stdout",
     "output_type": "stream",
     "text": [
      "yearbuilt\n"
     ]
    },
    {
     "data": {
      "image/png": "[encoded data removed]",
      "text/plain": [
       "<Figure size 432x288 with 1 Axes>"
      ]
     },
     "metadata": {
      "needs_background": "light"
     },
     "output_type": "display_data"
    },
    {
     "name": "stdout",
     "output_type": "stream",
     "text": [
      "taxamount\n"
     ]
    },
    {
     "data": {
      "image/png": "[encoded data removed]",
      "text/plain": [
       "<Figure size 432x288 with 1 Axes>"
      ]
     },
     "metadata": {
      "needs_background": "light"
     },
     "output_type": "display_data"
    },
    {
     "name": "stdout",
     "output_type": "stream",
     "text": [
      "fips\n"
     ]
    },
    {
     "data": {
      "image/png": "[encoded data removed]",
      "text/plain": [
       "<Figure size 432x288 with 1 Axes>"
      ]
     },
     "metadata": {
      "needs_background": "light"
     },
     "output_type": "display_data"
    }
   ],
   "source": [
    "for col in df.columns:\n",
    "    print(col)\n",
    "    plt.title(col)\n",
    "    df[col].hist()\n",
    "    plt.show()"
   ]
  },
  {
   "cell_type": "markdown",
   "id": "f53747ba",
   "metadata": {},
   "source": [
    "# ahhhhh, Alot better !"
   ]
  },
  {
   "cell_type": "code",
   "execution_count": 43,
   "id": "08096adc",
   "metadata": {},
   "outputs": [
    {
     "data": {
      "text/plain": [
       "849924     952576\n",
       "1689332    531118\n",
       "1432166     63692\n",
       "830510      59220\n",
       "530834      52503\n",
       "1327785     45891\n",
       "401550      42831\n",
       "1657947     39170\n",
       "2080790     37634\n",
       "430684      37472\n",
       "1704145     35796\n",
       "969038      35378\n",
       "950854      35046\n",
       "1517873     31653\n",
       "1553812     31450\n",
       "Name: calculatedfinishedsquarefeet, dtype: int64"
      ]
     },
     "execution_count": 43,
     "metadata": {},
     "output_type": "execute_result"
    }
   ],
   "source": [
    "df.calculatedfinishedsquarefeet.sort_values(ascending=False).head(15).T"
   ]
  },
  {
   "cell_type": "code",
   "execution_count": 46,
   "id": "03366f2d",
   "metadata": {},
   "outputs": [
    {
     "data": {
      "text/html": [
       "<div>\n",
       "<style scoped>\n",
       "    .dataframe tbody tr th:only-of-type {\n",
       "        vertical-align: middle;\n",
       "    }\n",
       "\n",
       "    .dataframe tbody tr th {\n",
       "        vertical-align: top;\n",
       "    }\n",
       "\n",
       "    .dataframe thead th {\n",
       "        text-align: right;\n",
       "    }\n",
       "</style>\n",
       "<table border=\"1\" class=\"dataframe\">\n",
       "  <thead>\n",
       "    <tr style=\"text-align: right;\">\n",
       "      <th></th>\n",
       "      <th>bedroomcnt</th>\n",
       "      <th>bathroomcnt</th>\n",
       "      <th>calculatedfinishedsquarefeet</th>\n",
       "      <th>taxvaluedollarcnt</th>\n",
       "      <th>yearbuilt</th>\n",
       "      <th>taxamount</th>\n",
       "      <th>fips</th>\n",
       "    </tr>\n",
       "  </thead>\n",
       "  <tbody>\n",
       "    <tr>\n",
       "      <th>32114</th>\n",
       "      <td>10</td>\n",
       "      <td>19.5</td>\n",
       "      <td>26345</td>\n",
       "      <td>11689668</td>\n",
       "      <td>1981</td>\n",
       "      <td>369.08</td>\n",
       "      <td>6059</td>\n",
       "    </tr>\n",
       "    <tr>\n",
       "      <th>154074</th>\n",
       "      <td>11</td>\n",
       "      <td>16.0</td>\n",
       "      <td>28954</td>\n",
       "      <td>11662596</td>\n",
       "      <td>1996</td>\n",
       "      <td>140614.03</td>\n",
       "      <td>6037</td>\n",
       "    </tr>\n",
       "    <tr>\n",
       "      <th>229363</th>\n",
       "      <td>6</td>\n",
       "      <td>7.0</td>\n",
       "      <td>27816</td>\n",
       "      <td>20192925</td>\n",
       "      <td>1993</td>\n",
       "      <td>242493.44</td>\n",
       "      <td>6037</td>\n",
       "    </tr>\n",
       "    <tr>\n",
       "      <th>401550</th>\n",
       "      <td>0</td>\n",
       "      <td>0.0</td>\n",
       "      <td>42831</td>\n",
       "      <td>29371867</td>\n",
       "      <td>2014</td>\n",
       "      <td>352319.61</td>\n",
       "      <td>6037</td>\n",
       "    </tr>\n",
       "    <tr>\n",
       "      <th>430684</th>\n",
       "      <td>3</td>\n",
       "      <td>1.0</td>\n",
       "      <td>37472</td>\n",
       "      <td>4003713</td>\n",
       "      <td>1956</td>\n",
       "      <td>13533.30</td>\n",
       "      <td>6037</td>\n",
       "    </tr>\n",
       "    <tr>\n",
       "      <th>433860</th>\n",
       "      <td>0</td>\n",
       "      <td>0.0</td>\n",
       "      <td>26072</td>\n",
       "      <td>12606834</td>\n",
       "      <td>1995</td>\n",
       "      <td>151740.30</td>\n",
       "      <td>6037</td>\n",
       "    </tr>\n",
       "    <tr>\n",
       "      <th>439746</th>\n",
       "      <td>0</td>\n",
       "      <td>0.0</td>\n",
       "      <td>29104</td>\n",
       "      <td>5222031</td>\n",
       "      <td>1986</td>\n",
       "      <td>62520.44</td>\n",
       "      <td>6059</td>\n",
       "    </tr>\n",
       "    <tr>\n",
       "      <th>463061</th>\n",
       "      <td>0</td>\n",
       "      <td>0.0</td>\n",
       "      <td>28609</td>\n",
       "      <td>424373</td>\n",
       "      <td>1953</td>\n",
       "      <td>93201.76</td>\n",
       "      <td>6037</td>\n",
       "    </tr>\n",
       "    <tr>\n",
       "      <th>523000</th>\n",
       "      <td>11</td>\n",
       "      <td>14.0</td>\n",
       "      <td>29678</td>\n",
       "      <td>33437863</td>\n",
       "      <td>1994</td>\n",
       "      <td>363213.73</td>\n",
       "      <td>6037</td>\n",
       "    </tr>\n",
       "    <tr>\n",
       "      <th>530834</th>\n",
       "      <td>11</td>\n",
       "      <td>16.0</td>\n",
       "      <td>52503</td>\n",
       "      <td>90188462</td>\n",
       "      <td>1990</td>\n",
       "      <td>1078101.87</td>\n",
       "      <td>6037</td>\n",
       "    </tr>\n",
       "    <tr>\n",
       "      <th>549141</th>\n",
       "      <td>10</td>\n",
       "      <td>16.0</td>\n",
       "      <td>27948</td>\n",
       "      <td>28992553</td>\n",
       "      <td>2014</td>\n",
       "      <td>347136.52</td>\n",
       "      <td>6037</td>\n",
       "    </tr>\n",
       "    <tr>\n",
       "      <th>592153</th>\n",
       "      <td>11</td>\n",
       "      <td>0.0</td>\n",
       "      <td>31335</td>\n",
       "      <td>33367596</td>\n",
       "      <td>2007</td>\n",
       "      <td>399369.47</td>\n",
       "      <td>6037</td>\n",
       "    </tr>\n",
       "    <tr>\n",
       "      <th>602824</th>\n",
       "      <td>0</td>\n",
       "      <td>5.0</td>\n",
       "      <td>27726</td>\n",
       "      <td>3144588</td>\n",
       "      <td>1988</td>\n",
       "      <td>1316.61</td>\n",
       "      <td>6037</td>\n",
       "    </tr>\n",
       "    <tr>\n",
       "      <th>681744</th>\n",
       "      <td>7</td>\n",
       "      <td>15.0</td>\n",
       "      <td>28122</td>\n",
       "      <td>28649692</td>\n",
       "      <td>2002</td>\n",
       "      <td>343158.64</td>\n",
       "      <td>6037</td>\n",
       "    </tr>\n",
       "    <tr>\n",
       "      <th>724765</th>\n",
       "      <td>4</td>\n",
       "      <td>13.0</td>\n",
       "      <td>27470</td>\n",
       "      <td>22044174</td>\n",
       "      <td>1995</td>\n",
       "      <td>256508.27</td>\n",
       "      <td>6037</td>\n",
       "    </tr>\n",
       "    <tr>\n",
       "      <th>752414</th>\n",
       "      <td>9</td>\n",
       "      <td>14.5</td>\n",
       "      <td>27100</td>\n",
       "      <td>16452056</td>\n",
       "      <td>2009</td>\n",
       "      <td>179778.36</td>\n",
       "      <td>6059</td>\n",
       "    </tr>\n",
       "    <tr>\n",
       "      <th>830510</th>\n",
       "      <td>3</td>\n",
       "      <td>2.0</td>\n",
       "      <td>59220</td>\n",
       "      <td>645043</td>\n",
       "      <td>1937</td>\n",
       "      <td>10401.55</td>\n",
       "      <td>6037</td>\n",
       "    </tr>\n",
       "    <tr>\n",
       "      <th>849924</th>\n",
       "      <td>4</td>\n",
       "      <td>4.0</td>\n",
       "      <td>952576</td>\n",
       "      <td>742727</td>\n",
       "      <td>1964</td>\n",
       "      <td>7694.72</td>\n",
       "      <td>6059</td>\n",
       "    </tr>\n",
       "    <tr>\n",
       "      <th>860533</th>\n",
       "      <td>0</td>\n",
       "      <td>15.0</td>\n",
       "      <td>28867</td>\n",
       "      <td>4022404</td>\n",
       "      <td>1994</td>\n",
       "      <td>43997.50</td>\n",
       "      <td>6059</td>\n",
       "    </tr>\n",
       "    <tr>\n",
       "      <th>950854</th>\n",
       "      <td>12</td>\n",
       "      <td>15.0</td>\n",
       "      <td>35046</td>\n",
       "      <td>88020448</td>\n",
       "      <td>2002</td>\n",
       "      <td>1052070.50</td>\n",
       "      <td>6037</td>\n",
       "    </tr>\n",
       "    <tr>\n",
       "      <th>969038</th>\n",
       "      <td>7</td>\n",
       "      <td>15.0</td>\n",
       "      <td>35378</td>\n",
       "      <td>54113075</td>\n",
       "      <td>2007</td>\n",
       "      <td>647221.37</td>\n",
       "      <td>6037</td>\n",
       "    </tr>\n",
       "    <tr>\n",
       "      <th>990587</th>\n",
       "      <td>8</td>\n",
       "      <td>10.0</td>\n",
       "      <td>28500</td>\n",
       "      <td>15653640</td>\n",
       "      <td>2008</td>\n",
       "      <td>188096.47</td>\n",
       "      <td>6037</td>\n",
       "    </tr>\n",
       "    <tr>\n",
       "      <th>1012171</th>\n",
       "      <td>0</td>\n",
       "      <td>18.0</td>\n",
       "      <td>25560</td>\n",
       "      <td>20547488</td>\n",
       "      <td>2014</td>\n",
       "      <td>246259.68</td>\n",
       "      <td>6037</td>\n",
       "    </tr>\n",
       "    <tr>\n",
       "      <th>1110363</th>\n",
       "      <td>10</td>\n",
       "      <td>12.0</td>\n",
       "      <td>26489</td>\n",
       "      <td>9796120</td>\n",
       "      <td>2009</td>\n",
       "      <td>118317.71</td>\n",
       "      <td>6037</td>\n",
       "    </tr>\n",
       "    <tr>\n",
       "      <th>1262946</th>\n",
       "      <td>7</td>\n",
       "      <td>9.0</td>\n",
       "      <td>28222</td>\n",
       "      <td>11869677</td>\n",
       "      <td>1999</td>\n",
       "      <td>143089.93</td>\n",
       "      <td>6037</td>\n",
       "    </tr>\n",
       "    <tr>\n",
       "      <th>1284546</th>\n",
       "      <td>14</td>\n",
       "      <td>0.0</td>\n",
       "      <td>25243</td>\n",
       "      <td>17662470</td>\n",
       "      <td>1991</td>\n",
       "      <td>205760.01</td>\n",
       "      <td>6037</td>\n",
       "    </tr>\n",
       "    <tr>\n",
       "      <th>1327785</th>\n",
       "      <td>6</td>\n",
       "      <td>10.0</td>\n",
       "      <td>45891</td>\n",
       "      <td>54748308</td>\n",
       "      <td>2006</td>\n",
       "      <td>655557.04</td>\n",
       "      <td>6037</td>\n",
       "    </tr>\n",
       "    <tr>\n",
       "      <th>1381498</th>\n",
       "      <td>13</td>\n",
       "      <td>12.0</td>\n",
       "      <td>25437</td>\n",
       "      <td>45975030</td>\n",
       "      <td>1955</td>\n",
       "      <td>533760.70</td>\n",
       "      <td>6037</td>\n",
       "    </tr>\n",
       "    <tr>\n",
       "      <th>1432166</th>\n",
       "      <td>0</td>\n",
       "      <td>0.0</td>\n",
       "      <td>63692</td>\n",
       "      <td>12774568</td>\n",
       "      <td>1968</td>\n",
       "      <td>232131.20</td>\n",
       "      <td>6037</td>\n",
       "    </tr>\n",
       "    <tr>\n",
       "      <th>1489262</th>\n",
       "      <td>5</td>\n",
       "      <td>10.0</td>\n",
       "      <td>25157</td>\n",
       "      <td>10720135</td>\n",
       "      <td>2012</td>\n",
       "      <td>129010.21</td>\n",
       "      <td>6037</td>\n",
       "    </tr>\n",
       "    <tr>\n",
       "      <th>1490264</th>\n",
       "      <td>3</td>\n",
       "      <td>3.0</td>\n",
       "      <td>26450</td>\n",
       "      <td>726218</td>\n",
       "      <td>1935</td>\n",
       "      <td>9069.93</td>\n",
       "      <td>6037</td>\n",
       "    </tr>\n",
       "    <tr>\n",
       "      <th>1517873</th>\n",
       "      <td>4</td>\n",
       "      <td>3.5</td>\n",
       "      <td>31653</td>\n",
       "      <td>990852</td>\n",
       "      <td>2000</td>\n",
       "      <td>12137.74</td>\n",
       "      <td>6111</td>\n",
       "    </tr>\n",
       "    <tr>\n",
       "      <th>1553812</th>\n",
       "      <td>10</td>\n",
       "      <td>12.0</td>\n",
       "      <td>31450</td>\n",
       "      <td>45563526</td>\n",
       "      <td>2013</td>\n",
       "      <td>545031.69</td>\n",
       "      <td>6037</td>\n",
       "    </tr>\n",
       "    <tr>\n",
       "      <th>1553844</th>\n",
       "      <td>8</td>\n",
       "      <td>14.0</td>\n",
       "      <td>28887</td>\n",
       "      <td>15513669</td>\n",
       "      <td>1999</td>\n",
       "      <td>186488.66</td>\n",
       "      <td>6037</td>\n",
       "    </tr>\n",
       "    <tr>\n",
       "      <th>1618393</th>\n",
       "      <td>7</td>\n",
       "      <td>20.0</td>\n",
       "      <td>28725</td>\n",
       "      <td>83196095</td>\n",
       "      <td>1938</td>\n",
       "      <td>994030.96</td>\n",
       "      <td>6037</td>\n",
       "    </tr>\n",
       "    <tr>\n",
       "      <th>1657947</th>\n",
       "      <td>10</td>\n",
       "      <td>32.0</td>\n",
       "      <td>39170</td>\n",
       "      <td>31038350</td>\n",
       "      <td>2009</td>\n",
       "      <td>372142.72</td>\n",
       "      <td>6037</td>\n",
       "    </tr>\n",
       "    <tr>\n",
       "      <th>1661135</th>\n",
       "      <td>18</td>\n",
       "      <td>0.0</td>\n",
       "      <td>26116</td>\n",
       "      <td>20260690</td>\n",
       "      <td>2002</td>\n",
       "      <td>243003.64</td>\n",
       "      <td>6037</td>\n",
       "    </tr>\n",
       "    <tr>\n",
       "      <th>1689332</th>\n",
       "      <td>1</td>\n",
       "      <td>0.0</td>\n",
       "      <td>531118</td>\n",
       "      <td>374376</td>\n",
       "      <td>1972</td>\n",
       "      <td>3737.82</td>\n",
       "      <td>6059</td>\n",
       "    </tr>\n",
       "    <tr>\n",
       "      <th>1704145</th>\n",
       "      <td>8</td>\n",
       "      <td>11.0</td>\n",
       "      <td>35796</td>\n",
       "      <td>15971597</td>\n",
       "      <td>1991</td>\n",
       "      <td>192105.67</td>\n",
       "      <td>6037</td>\n",
       "    </tr>\n",
       "    <tr>\n",
       "      <th>1758214</th>\n",
       "      <td>5</td>\n",
       "      <td>7.0</td>\n",
       "      <td>25000</td>\n",
       "      <td>10385385</td>\n",
       "      <td>2001</td>\n",
       "      <td>125872.40</td>\n",
       "      <td>6037</td>\n",
       "    </tr>\n",
       "    <tr>\n",
       "      <th>1790477</th>\n",
       "      <td>8</td>\n",
       "      <td>11.0</td>\n",
       "      <td>28660</td>\n",
       "      <td>15570851</td>\n",
       "      <td>1998</td>\n",
       "      <td>187296.80</td>\n",
       "      <td>6037</td>\n",
       "    </tr>\n",
       "    <tr>\n",
       "      <th>1995592</th>\n",
       "      <td>3</td>\n",
       "      <td>3.0</td>\n",
       "      <td>29620</td>\n",
       "      <td>200158</td>\n",
       "      <td>1955</td>\n",
       "      <td>3976.03</td>\n",
       "      <td>6037</td>\n",
       "    </tr>\n",
       "    <tr>\n",
       "      <th>2001975</th>\n",
       "      <td>9</td>\n",
       "      <td>14.0</td>\n",
       "      <td>27000</td>\n",
       "      <td>24480754</td>\n",
       "      <td>2007</td>\n",
       "      <td>293246.30</td>\n",
       "      <td>6037</td>\n",
       "    </tr>\n",
       "    <tr>\n",
       "      <th>2080790</th>\n",
       "      <td>5</td>\n",
       "      <td>4.0</td>\n",
       "      <td>37634</td>\n",
       "      <td>1357223</td>\n",
       "      <td>1978</td>\n",
       "      <td>19200.82</td>\n",
       "      <td>6037</td>\n",
       "    </tr>\n",
       "    <tr>\n",
       "      <th>2112921</th>\n",
       "      <td>7</td>\n",
       "      <td>12.0</td>\n",
       "      <td>27149</td>\n",
       "      <td>10169288</td>\n",
       "      <td>1988</td>\n",
       "      <td>122553.96</td>\n",
       "      <td>6037</td>\n",
       "    </tr>\n",
       "    <tr>\n",
       "      <th>2135273</th>\n",
       "      <td>10</td>\n",
       "      <td>19.0</td>\n",
       "      <td>31415</td>\n",
       "      <td>6401936</td>\n",
       "      <td>1991</td>\n",
       "      <td>73571.72</td>\n",
       "      <td>6037</td>\n",
       "    </tr>\n",
       "  </tbody>\n",
       "</table>\n",
       "</div>"
      ],
      "text/plain": [
       "         bedroomcnt  bathroomcnt  calculatedfinishedsquarefeet  \\\n",
       "32114            10         19.5                         26345   \n",
       "154074           11         16.0                         28954   \n",
       "229363            6          7.0                         27816   \n",
       "401550            0          0.0                         42831   \n",
       "430684            3          1.0                         37472   \n",
       "433860            0          0.0                         26072   \n",
       "439746            0          0.0                         29104   \n",
       "463061            0          0.0                         28609   \n",
       "523000           11         14.0                         29678   \n",
       "530834           11         16.0                         52503   \n",
       "549141           10         16.0                         27948   \n",
       "592153           11          0.0                         31335   \n",
       "602824            0          5.0                         27726   \n",
       "681744            7         15.0                         28122   \n",
       "724765            4         13.0                         27470   \n",
       "752414            9         14.5                         27100   \n",
       "830510            3          2.0                         59220   \n",
       "849924            4          4.0                        952576   \n",
       "860533            0         15.0                         28867   \n",
       "950854           12         15.0                         35046   \n",
       "969038            7         15.0                         35378   \n",
       "990587            8         10.0                         28500   \n",
       "1012171           0         18.0                         25560   \n",
       "1110363          10         12.0                         26489   \n",
       "1262946           7          9.0                         28222   \n",
       "1284546          14          0.0                         25243   \n",
       "1327785           6         10.0                         45891   \n",
       "1381498          13         12.0                         25437   \n",
       "1432166           0          0.0                         63692   \n",
       "1489262           5         10.0                         25157   \n",
       "1490264           3          3.0                         26450   \n",
       "1517873           4          3.5                         31653   \n",
       "1553812          10         12.0                         31450   \n",
       "1553844           8         14.0                         28887   \n",
       "1618393           7         20.0                         28725   \n",
       "1657947          10         32.0                         39170   \n",
       "1661135          18          0.0                         26116   \n",
       "1689332           1          0.0                        531118   \n",
       "1704145           8         11.0                         35796   \n",
       "1758214           5          7.0                         25000   \n",
       "1790477           8         11.0                         28660   \n",
       "1995592           3          3.0                         29620   \n",
       "2001975           9         14.0                         27000   \n",
       "2080790           5          4.0                         37634   \n",
       "2112921           7         12.0                         27149   \n",
       "2135273          10         19.0                         31415   \n",
       "\n",
       "         taxvaluedollarcnt  yearbuilt   taxamount  fips  \n",
       "32114             11689668       1981      369.08  6059  \n",
       "154074            11662596       1996   140614.03  6037  \n",
       "229363            20192925       1993   242493.44  6037  \n",
       "401550            29371867       2014   352319.61  6037  \n",
       "430684             4003713       1956    13533.30  6037  \n",
       "433860            12606834       1995   151740.30  6037  \n",
       "439746             5222031       1986    62520.44  6059  \n",
       "463061              424373       1953    93201.76  6037  \n",
       "523000            33437863       1994   363213.73  6037  \n",
       "530834            90188462       1990  1078101.87  6037  \n",
       "549141            28992553       2014   347136.52  6037  \n",
       "592153            33367596       2007   399369.47  6037  \n",
       "602824             3144588       1988     1316.61  6037  \n",
       "681744            28649692       2002   343158.64  6037  \n",
       "724765            22044174       1995   256508.27  6037  \n",
       "752414            16452056       2009   179778.36  6059  \n",
       "830510              645043       1937    10401.55  6037  \n",
       "849924              742727       1964     7694.72  6059  \n",
       "860533             4022404       1994    43997.50  6059  \n",
       "950854            88020448       2002  1052070.50  6037  \n",
       "969038            54113075       2007   647221.37  6037  \n",
       "990587            15653640       2008   188096.47  6037  \n",
       "1012171           20547488       2014   246259.68  6037  \n",
       "1110363            9796120       2009   118317.71  6037  \n",
       "1262946           11869677       1999   143089.93  6037  \n",
       "1284546           17662470       1991   205760.01  6037  \n",
       "1327785           54748308       2006   655557.04  6037  \n",
       "1381498           45975030       1955   533760.70  6037  \n",
       "1432166           12774568       1968   232131.20  6037  \n",
       "1489262           10720135       2012   129010.21  6037  \n",
       "1490264             726218       1935     9069.93  6037  \n",
       "1517873             990852       2000    12137.74  6111  \n",
       "1553812           45563526       2013   545031.69  6037  \n",
       "1553844           15513669       1999   186488.66  6037  \n",
       "1618393           83196095       1938   994030.96  6037  \n",
       "1657947           31038350       2009   372142.72  6037  \n",
       "1661135           20260690       2002   243003.64  6037  \n",
       "1689332             374376       1972     3737.82  6059  \n",
       "1704145           15971597       1991   192105.67  6037  \n",
       "1758214           10385385       2001   125872.40  6037  \n",
       "1790477           15570851       1998   187296.80  6037  \n",
       "1995592             200158       1955     3976.03  6037  \n",
       "2001975           24480754       2007   293246.30  6037  \n",
       "2080790            1357223       1978    19200.82  6037  \n",
       "2112921           10169288       1988   122553.96  6037  \n",
       "2135273            6401936       1991    73571.72  6037  "
      ]
     },
     "execution_count": 46,
     "metadata": {},
     "output_type": "execute_result"
    }
   ],
   "source": [
    "df[df.calculatedfinishedsquarefeet >= 25_000]"
   ]
  },
  {
   "cell_type": "code",
   "execution_count": 52,
   "id": "ceb9483c",
   "metadata": {},
   "outputs": [
    {
     "data": {
      "text/plain": [
       "21324849.826086957"
      ]
     },
     "execution_count": 52,
     "metadata": {},
     "output_type": "execute_result"
    }
   ],
   "source": [
    "df[df.calculatedfinishedsquarefeet >= 25_000].taxvaluedollarcnt.mean()"
   ]
  },
  {
   "cell_type": "code",
   "execution_count": 55,
   "id": "87101b84",
   "metadata": {},
   "outputs": [
    {
     "data": {
      "text/plain": [
       "bedroomcnt                      7.018658e+06\n",
       "bathroomcnt                     4.759029e+06\n",
       "calculatedfinishedsquarefeet    3.951775e+09\n",
       "taxvaluedollarcnt               9.697443e+11\n",
       "yearbuilt                       4.184402e+09\n",
       "taxamount                       1.183158e+10\n",
       "fips                            1.290623e+10\n",
       "dtype: float64"
      ]
     },
     "execution_count": 55,
     "metadata": {},
     "output_type": "execute_result"
    }
   ],
   "source": [
    "df[df.bedroomcnt <= 6].sum()"
   ]
  },
  {
   "cell_type": "code",
   "execution_count": 56,
   "id": "75ee9552",
   "metadata": {},
   "outputs": [
    {
     "data": {
      "text/plain": [
       "1657947    32.0\n",
       "1114403    20.0\n",
       "2051558    20.0\n",
       "26485      20.0\n",
       "1174755    20.0\n",
       "1618393    20.0\n",
       "701366     20.0\n",
       "32114      19.5\n",
       "2135273    19.0\n",
       "1758193    18.0\n",
       "1553895    18.0\n",
       "1273779    18.0\n",
       "570561     18.0\n",
       "1012171    18.0\n",
       "253517     18.0\n",
       "799516     18.0\n",
       "1811787    18.0\n",
       "572169     17.0\n",
       "1671890    17.0\n",
       "843041     17.0\n",
       "1144383    17.0\n",
       "818240     16.0\n",
       "1432079    16.0\n",
       "549141     16.0\n",
       "1866663    16.0\n",
       "154074     16.0\n",
       "1151694    16.0\n",
       "2138637    16.0\n",
       "1316950    16.0\n",
       "1090763    16.0\n",
       "Name: bathroomcnt, dtype: float64"
      ]
     },
     "execution_count": 56,
     "metadata": {},
     "output_type": "execute_result"
    }
   ],
   "source": [
    "df.bathroomcnt.sort_values(ascending=False).head(30)"
   ]
  },
  {
   "cell_type": "markdown",
   "id": "51ac8286",
   "metadata": {},
   "source": [
    "## Now we know how to check for outliers, we will know move to a manual method of detection and Filtering !!! "
   ]
  },
  {
   "cell_type": "markdown",
   "id": "b757d077",
   "metadata": {},
   "source": [
    "#### we want to get our dataset as close to the norm of data as we can we dont want to enter the 50cents are jeff bozo in our data set. "
   ]
  },
  {
   "cell_type": "code",
   "execution_count": 57,
   "id": "3fb0c950",
   "metadata": {},
   "outputs": [
    {
     "data": {
      "text/plain": [
       "0.9956481414424116"
      ]
     },
     "execution_count": 57,
     "metadata": {},
     "output_type": "execute_result"
    }
   ],
   "source": [
    "df[df.bathroomcnt <= 6].shape[0] / df.shape[0] # this will tell is a \n",
    "# percent of properties that have 6 of less toliet rooms the rest of the \n",
    "# will do the same for the desired data type "
   ]
  },
  {
   "cell_type": "code",
   "execution_count": 59,
   "id": "54f350b5",
   "metadata": {},
   "outputs": [
    {
     "data": {
      "text/plain": [
       "0.9970180844626875"
      ]
     },
     "execution_count": 59,
     "metadata": {},
     "output_type": "execute_result"
    }
   ],
   "source": [
    "df[df.bedroomcnt <= 6].shape[0] / df.shape[0]"
   ]
  },
  {
   "cell_type": "code",
   "execution_count": 60,
   "id": "5eb8f447",
   "metadata": {},
   "outputs": [
    {
     "data": {
      "text/plain": [
       "0.9673507815730515"
      ]
     },
     "execution_count": 60,
     "metadata": {},
     "output_type": "execute_result"
    }
   ],
   "source": [
    "df[df.taxvaluedollarcnt < 1_500_000].shape[0] / df.shape[0]"
   ]
  },
  {
   "cell_type": "code",
   "execution_count": 61,
   "id": "7e1f8cd1",
   "metadata": {},
   "outputs": [],
   "source": [
    "from wrangle import wrangle_zillow\n"
   ]
  },
  {
   "cell_type": "code",
   "execution_count": 62,
   "id": "eb37c883",
   "metadata": {},
   "outputs": [],
   "source": [
    "df = wrangle_zillow()"
   ]
  },
  {
   "cell_type": "code",
   "execution_count": 63,
   "id": "9cf66962",
   "metadata": {},
   "outputs": [
    {
     "data": {
      "text/html": [
       "<div>\n",
       "<style scoped>\n",
       "    .dataframe tbody tr th:only-of-type {\n",
       "        vertical-align: middle;\n",
       "    }\n",
       "\n",
       "    .dataframe tbody tr th {\n",
       "        vertical-align: top;\n",
       "    }\n",
       "\n",
       "    .dataframe thead th {\n",
       "        text-align: right;\n",
       "    }\n",
       "</style>\n",
       "<table border=\"1\" class=\"dataframe\">\n",
       "  <thead>\n",
       "    <tr style=\"text-align: right;\">\n",
       "      <th></th>\n",
       "      <th>bedroomcnt</th>\n",
       "      <th>bathroomcnt</th>\n",
       "      <th>calculatedfinishedsquarefeet</th>\n",
       "      <th>taxvaluedollarcnt</th>\n",
       "      <th>yearbuilt</th>\n",
       "      <th>taxamount</th>\n",
       "      <th>fips</th>\n",
       "    </tr>\n",
       "  </thead>\n",
       "  <tbody>\n",
       "    <tr>\n",
       "      <th>4</th>\n",
       "      <td>4</td>\n",
       "      <td>2.0</td>\n",
       "      <td>3633</td>\n",
       "      <td>296425</td>\n",
       "      <td>2005</td>\n",
       "      <td>6941.39</td>\n",
       "      <td>6037</td>\n",
       "    </tr>\n",
       "    <tr>\n",
       "      <th>6</th>\n",
       "      <td>3</td>\n",
       "      <td>4.0</td>\n",
       "      <td>1620</td>\n",
       "      <td>847770</td>\n",
       "      <td>2011</td>\n",
       "      <td>10244.94</td>\n",
       "      <td>6037</td>\n",
       "    </tr>\n",
       "    <tr>\n",
       "      <th>7</th>\n",
       "      <td>3</td>\n",
       "      <td>2.0</td>\n",
       "      <td>2077</td>\n",
       "      <td>646760</td>\n",
       "      <td>1926</td>\n",
       "      <td>7924.68</td>\n",
       "      <td>6037</td>\n",
       "    </tr>\n",
       "    <tr>\n",
       "      <th>11</th>\n",
       "      <td>0</td>\n",
       "      <td>0.0</td>\n",
       "      <td>1200</td>\n",
       "      <td>5328</td>\n",
       "      <td>1972</td>\n",
       "      <td>91.60</td>\n",
       "      <td>6037</td>\n",
       "    </tr>\n",
       "    <tr>\n",
       "      <th>14</th>\n",
       "      <td>0</td>\n",
       "      <td>0.0</td>\n",
       "      <td>171</td>\n",
       "      <td>6920</td>\n",
       "      <td>1973</td>\n",
       "      <td>255.17</td>\n",
       "      <td>6037</td>\n",
       "    </tr>\n",
       "  </tbody>\n",
       "</table>\n",
       "</div>"
      ],
      "text/plain": [
       "    bedroomcnt  bathroomcnt  calculatedfinishedsquarefeet  taxvaluedollarcnt  \\\n",
       "4            4          2.0                          3633             296425   \n",
       "6            3          4.0                          1620             847770   \n",
       "7            3          2.0                          2077             646760   \n",
       "11           0          0.0                          1200               5328   \n",
       "14           0          0.0                           171               6920   \n",
       "\n",
       "    yearbuilt  taxamount  fips  \n",
       "4        2005    6941.39  6037  \n",
       "6        2011   10244.94  6037  \n",
       "7        1926    7924.68  6037  \n",
       "11       1972      91.60  6037  \n",
       "14       1973     255.17  6037  "
      ]
     },
     "execution_count": 63,
     "metadata": {},
     "output_type": "execute_result"
    }
   ],
   "source": [
    "df.head()"
   ]
  },
  {
   "cell_type": "code",
   "execution_count": 65,
   "id": "d9ce335d",
   "metadata": {},
   "outputs": [
    {
     "name": "stdout",
     "output_type": "stream",
     "text": [
      "bedroomcnt\n"
     ]
    },
    {
     "data": {
      "image/png": "[encoded data removed]",
      "text/plain": [
       "<Figure size 432x288 with 1 Axes>"
      ]
     },
     "metadata": {
      "needs_background": "light"
     },
     "output_type": "display_data"
    },
    {
     "name": "stdout",
     "output_type": "stream",
     "text": [
      "bathroomcnt\n"
     ]
    },
    {
     "data": {
      "image/png": "[encoded data removed]",
      "text/plain": [
       "<Figure size 432x288 with 1 Axes>"
      ]
     },
     "metadata": {
      "needs_background": "light"
     },
     "output_type": "display_data"
    },
    {
     "name": "stdout",
     "output_type": "stream",
     "text": [
      "calculatedfinishedsquarefeet\n"
     ]
    },
    {
     "data": {
      "image/png": "[encoded data removed]",
      "text/plain": [
       "<Figure size 432x288 with 1 Axes>"
      ]
     },
     "metadata": {
      "needs_background": "light"
     },
     "output_type": "display_data"
    },
    {
     "name": "stdout",
     "output_type": "stream",
     "text": [
      "taxvaluedollarcnt\n"
     ]
    },
    {
     "data": {
      "image/png": "[encoded data removed]",
      "text/plain": [
       "<Figure size 432x288 with 1 Axes>"
      ]
     },
     "metadata": {
      "needs_background": "light"
     },
     "output_type": "display_data"
    },
    {
     "name": "stdout",
     "output_type": "stream",
     "text": [
      "yearbuilt\n"
     ]
    },
    {
     "data": {
      "image/png": "[encoded data removed]",
      "text/plain": [
       "<Figure size 432x288 with 1 Axes>"
      ]
     },
     "metadata": {
      "needs_background": "light"
     },
     "output_type": "display_data"
    },
    {
     "name": "stdout",
     "output_type": "stream",
     "text": [
      "taxamount\n"
     ]
    },
    {
     "data": {
      "image/png": "[encoded data removed]",
      "text/plain": [
       "<Figure size 432x288 with 1 Axes>"
      ]
     },
     "metadata": {
      "needs_background": "light"
     },
     "output_type": "display_data"
    },
    {
     "name": "stdout",
     "output_type": "stream",
     "text": [
      "fips\n"
     ]
    },
    {
     "data": {
      "image/png": "[encoded data removed]",
      "text/plain": [
       "<Figure size 432x288 with 1 Axes>"
      ]
     },
     "metadata": {
      "needs_background": "light"
     },
     "output_type": "display_data"
    }
   ],
   "source": [
    "for col in df.columns:\n",
    "    print(col)\n",
    "    df[col].hist()\n",
    "    plt.show()\n"
   ]
  },
  {
   "cell_type": "code",
   "execution_count": null,
   "id": "1c04767a",
   "metadata": {},
   "outputs": [],
   "source": []
  }
 ],
 "metadata": {
  "kernelspec": {
   "display_name": "Python 3 (ipykernel)",
   "language": "python",
   "name": "python3"
  },
  "language_info": {
   "codemirror_mode": {
    "name": "ipython",
    "version": 3
   },
   "file_extension": ".py",
   "mimetype": "text/x-python",
   "name": "python",
   "nbconvert_exporter": "python",
   "pygments_lexer": "ipython3",
   "version": "3.9.7"
  }
 },
 "nbformat": 4,
 "nbformat_minor": 5
}
